{
 "metadata": {
  "name": "stp_analysis"
 }, 
 "nbformat": 2, 
 "worksheets": [
  {
   "cells": [
    {
     "cell_type": "code", 
     "collapsed": true, 
     "input": [
      "import pandas as pd", 
      "import matplotlib.pyplot as plt", 
      "from pandas import DataFrame", 
      "from pandas import Series", 
      "import numpy as np"
     ], 
     "language": "python", 
     "outputs": [], 
     "prompt_number": 19
    }, 
    {
     "cell_type": "code", 
     "collapsed": false, 
     "input": [
      "'''to investigate the effects of Monte Carlo steps in perturbation '''", 
      "'''MC turned on, energy in every step printed'''", 
      "# rotation step 6.28", 
      "# translation step 0.1", 
      "# temperature 0.5", 
      "# mc stps are the controled parameters"
     ], 
     "language": "python", 
     "outputs": [
      {
       "output_type": "pyout", 
       "prompt_number": 20, 
       "text": [
        "'MC turned on, energy in every step printed'"
       ]
      }
     ], 
     "prompt_number": 20
    }, 
    {
     "cell_type": "code", 
     "collapsed": true, 
     "input": [
      "# files to analyze (user-specified)", 
      "input_files = ['mc_stp1.out','mc_stp2.out','mc_stp3.out','mc_stp4.out',", 
      "               'mc_stp5.out','mc_stp6.out','mc_stp7.out','mc_stp8.out']", 
      "", 
      "# sepration style (user-specified)", 
      "sep_style = ','", 
      "", 
      "# rows to skip (user-specified)", 
      "rows_out = [0,1,2,3,-0]", 
      "", 
      "# unwanted descriptions (user-specified)", 
      "desp_out = ['25%','50%','75%']"
     ], 
     "language": "python", 
     "outputs": [], 
     "prompt_number": 21
    }, 
    {
     "cell_type": "code", 
     "collapsed": true, 
     "input": [
      "# list of the loaded files", 
      "input = []", 
      "", 
      "# DataFrames ", 
      "data = []", 
      "", 
      "# data descriptions", 
      "desps = []"
     ], 
     "language": "python", 
     "outputs": [], 
     "prompt_number": 22
    }, 
    {
     "cell_type": "code", 
     "collapsed": true, 
     "input": [
      "# load the data to DataFrame", 
      "for i in input_files:", 
      "    input.append(pd.read_csv(i,sep = sep_style,skiprows=rows_out))", 
      "for i in input:", 
      "    data.append(DataFrame(i))"
     ], 
     "language": "python", 
     "outputs": [], 
     "prompt_number": 23
    }, 
    {
     "cell_type": "code", 
     "collapsed": true, 
     "input": [
      "# describe the DataFrame", 
      "for i in data:", 
      "    desps.append(i.describe().drop(desp_out))"
     ], 
     "language": "python", 
     "outputs": [], 
     "prompt_number": 24
    }, 
    {
     "cell_type": "code", 
     "collapsed": true, 
     "input": [
      "energy_term = 'eele'"
     ], 
     "language": "python", 
     "outputs": [], 
     "prompt_number": 25
    }, 
    {
     "cell_type": "code", 
     "collapsed": true, 
     "input": [
      "e = []", 
      "for i in range(len(desps)):", 
      "    e.append(DataFrame(desps[i][energy_term]))"
     ], 
     "language": "python", 
     "outputs": [], 
     "prompt_number": 26
    }, 
    {
     "cell_type": "code", 
     "collapsed": false, 
     "input": [
      "e"
     ], 
     "language": "python", 
     "outputs": [
      {
       "output_type": "pyout", 
       "prompt_number": 27, 
       "text": [
        "[             eele", 
        "count  100.000000", 
        "mean    -0.000001", 
        "std      0.000043", 
        "min     -0.000372", 
        "max      0.000196,", 
        "              eele", 
        "count  200.000000", 
        "mean    -0.000000", 
        "std      0.000013", 
        "min     -0.000043", 
        "max      0.000166,", 
        "              eele", 
        "count  500.000000", 
        "mean    -0.000002", 
        "std      0.000002", 
        "min     -0.000028", 
        "max      0.000004,", 
        "               eele", 
        "count  1000.000000", 
        "mean     -0.000002", 
        "std       0.000002", 
        "min      -0.000026", 
        "max       0.000025,", 
        "               eele", 
        "count  2000.000000", 
        "mean     -0.000002", 
        "std       0.000005", 
        "min      -0.000121", 
        "max       0.000133,", 
        "               eele", 
        "count  5000.000000", 
        "mean     -0.000002", 
        "std       0.000002", 
        "min      -0.000051", 
        "max       0.000007,", 
        "               eele", 
        "count  8000.000000", 
        "mean     -0.000002", 
        "std       0.000015", 
        "min      -0.001307", 
        "max       0.000012,", 
        "                eele", 
        "count  12000.000000", 
        "mean      -0.000002", 
        "std        0.000020", 
        "min       -0.001068", 
        "max        0.001344]"
       ]
      }
     ], 
     "prompt_number": 27
    }, 
    {
     "cell_type": "code", 
     "collapsed": true, 
     "input": [
      "energy = Series(data[4][energy_term])", 
      "", 
      "energy = energy.drop(energy.size-1)", 
      "# drop the last line in the file, which is the accept ratio"
     ], 
     "language": "python", 
     "outputs": [], 
     "prompt_number": 28
    }, 
    {
     "cell_type": "code", 
     "collapsed": false, 
     "input": [
      "energy_hist = energy.hist(bins = 100, color = 'k', alpha = 0.3,)", 
      "print(energy.name)"
     ], 
     "language": "python", 
     "outputs": [
      {
       "output_type": "stream", 
       "stream": "stdout", 
       "text": [
        "eele"
       ]
      }, 
      {
       "output_type": "display_data", 
       "png": "[encoded data removed]"
      }
     ], 
     "prompt_number": 29
    }, 
    {
     "cell_type": "code", 
     "collapsed": false, 
     "input": [
      "energy.plot(kind='kde', title=energy.name)"
     ], 
     "language": "python", 
     "outputs": [
      {
       "output_type": "pyout", 
       "prompt_number": 30, 
       "text": [
        "<matplotlib.axes.AxesSubplot at 0x10e0fd4d0>"
       ]
      }, 
      {
       "output_type": "display_data", 
       "png": "[encoded data removed]"
      }
     ], 
     "prompt_number": 30
    }, 
    {
     "cell_type": "code", 
     "collapsed": true, 
     "input": [], 
     "language": "python", 
     "outputs": [], 
     "prompt_number": 30
    }, 
    {
     "cell_type": "code", 
     "collapsed": true, 
     "input": [], 
     "language": "python", 
     "outputs": [], 
     "prompt_number": 30
    }
   ]
  }
 ]
}