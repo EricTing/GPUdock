{
 "metadata": {
  "name": "stp_analysis"
 }, 
 "nbformat": 2, 
 "worksheets": [
  {
   "cells": [
    {
     "cell_type": "code", 
     "collapsed": true, 
     "input": [
      "import pandas as pd", 
      "import matplotlib.pyplot as plt", 
      "from pandas import DataFrame", 
      "from pandas import Series", 
      "import numpy as np"
     ], 
     "language": "python", 
     "outputs": [], 
     "prompt_number": 126
    }, 
    {
     "cell_type": "code", 
     "collapsed": false, 
     "input": [
      "'''to investigate the effects of Monte Carlo steps in perturbation '''", 
      "# rotation step 6.28", 
      "# translation step 0.1", 
      "# temperature 0.5", 
      "# mc stps are the controled parameters"
     ], 
     "language": "python", 
     "outputs": [
      {
       "output_type": "pyout", 
       "prompt_number": 127, 
       "text": [
        "'to investigate the effects of Monte Carlo steps in perturbation '"
       ]
      }
     ], 
     "prompt_number": 127
    }, 
    {
     "cell_type": "code", 
     "collapsed": true, 
     "input": [
      "# files to analyze (user-specified)", 
      "input_files = ['mc_stp1.out','mc_stp2.out','mc_stp3.out','mc_stp4.out',", 
      "               'mc_stp5.out','mc_stp6.out','mc_stp7.out','mc_stp8.out']", 
      "", 
      "# sepration style (user-specified)", 
      "sep_style = ','", 
      "", 
      "# rows to skip (user-specified)", 
      "rows_out = [0,1,2,3,-0]", 
      "", 
      "# unwanted descriptions (user-specified)", 
      "desp_out = ['25%','50%','75%']"
     ], 
     "language": "python", 
     "outputs": [], 
     "prompt_number": 128
    }, 
    {
     "cell_type": "code", 
     "collapsed": true, 
     "input": [
      "# list of the loaded files", 
      "input = []", 
      "", 
      "# DataFrames ", 
      "data = []", 
      "", 
      "# data descriptions", 
      "desps = []"
     ], 
     "language": "python", 
     "outputs": [], 
     "prompt_number": 129
    }, 
    {
     "cell_type": "code", 
     "collapsed": true, 
     "input": [
      "# load the data to DataFrame", 
      "for i in input_files:", 
      "    input.append(pd.read_csv(i,sep = sep_style,skiprows=rows_out))", 
      "for i in input:", 
      "    data.append(DataFrame(i))"
     ], 
     "language": "python", 
     "outputs": [], 
     "prompt_number": 130
    }, 
    {
     "cell_type": "code", 
     "collapsed": true, 
     "input": [
      "# describe the DataFrame", 
      "for i in data:", 
      "    desps.append(i.describe().drop(desp_out))"
     ], 
     "language": "python", 
     "outputs": [], 
     "prompt_number": 131
    }, 
    {
     "cell_type": "code", 
     "collapsed": true, 
     "input": [
      "energy_term = 'elhm'"
     ], 
     "language": "python", 
     "outputs": [], 
     "prompt_number": 151
    }, 
    {
     "cell_type": "code", 
     "collapsed": true, 
     "input": [
      "e = []", 
      "for i in range(len(desps)):", 
      "    e.append(DataFrame(desps[i][energy_term]))"
     ], 
     "language": "python", 
     "outputs": [], 
     "prompt_number": 152
    }, 
    {
     "cell_type": "code", 
     "collapsed": false, 
     "input": [
      "e"
     ], 
     "language": "python", 
     "outputs": [
      {
       "output_type": "pyout", 
       "prompt_number": 153, 
       "text": [
        "[             elhm", 
        "count  100.000000", 
        "mean     3.079847", 
        "std      0.809233", 
        "min      1.243050", 
        "max      5.059920,", 
        "              elhm", 
        "count  200.000000", 
        "mean     2.727860", 
        "std      0.807614", 
        "min      0.438087", 
        "max      5.275550,", 
        "              elhm", 
        "count  500.000000", 
        "mean     2.608966", 
        "std      0.695068", 
        "min      0.376400", 
        "max      4.945490,", 
        "               elhm", 
        "count  1000.000000", 
        "mean      2.581591", 
        "std       0.745328", 
        "min       0.240725", 
        "max       6.446010,", 
        "               elhm", 
        "count  2000.000000", 
        "mean      2.694727", 
        "std       0.766688", 
        "min       0.338935", 
        "max       5.863330,", 
        "               elhm", 
        "count  5000.000000", 
        "mean      2.682411", 
        "std       0.748624", 
        "min       0.172696", 
        "max       6.792670,", 
        "               elhm", 
        "count  8000.000000", 
        "mean      2.643257", 
        "std       0.767372", 
        "min       0.181020", 
        "max       7.411900,", 
        "                elhm", 
        "count  12000.000000", 
        "mean       2.652597", 
        "std        0.747488", 
        "min        0.182036", 
        "max        6.534560]"
       ]
      }
     ], 
     "prompt_number": 153
    }, 
    {
     "cell_type": "code", 
     "collapsed": true, 
     "input": [
      "energy = Series(data[4][energy_term])", 
      "", 
      "energy = energy.drop(energy.size-1)", 
      "# drop the last line in the file, which is the accept ratio"
     ], 
     "language": "python", 
     "outputs": [], 
     "prompt_number": 154
    }, 
    {
     "cell_type": "code", 
     "collapsed": false, 
     "input": [
      "energy_hist = energy.hist(bins = 100, color = 'k', alpha = 0.3,)", 
      "print(energy.name)"
     ], 
     "language": "python", 
     "outputs": [
      {
       "output_type": "stream", 
       "stream": "stdout", 
       "text": [
        "elhm"
       ]
      }, 
      {
       "output_type": "display_data", 
       "png": "[encoded data removed]"
      }
     ], 
     "prompt_number": 155
    }, 
    {
     "cell_type": "code", 
     "collapsed": false, 
     "input": [
      "energy.plot(kind='kde', title=energy.name)"
     ], 
     "language": "python", 
     "outputs": [
      {
       "output_type": "pyout", 
       "prompt_number": 156, 
       "text": [
        "<matplotlib.axes.AxesSubplot at 0x10f02f110>"
       ]
      }, 
      {
       "output_type": "display_data", 
       "png": "[encoded data removed]"
      }
     ], 
     "prompt_number": 156
    }, 
    {
     "cell_type": "code", 
     "collapsed": true, 
     "input": [], 
     "language": "python", 
     "outputs": [], 
     "prompt_number": 138
    }, 
    {
     "cell_type": "code", 
     "collapsed": true, 
     "input": [], 
     "language": "python", 
     "outputs": [], 
     "prompt_number": 138
    }
   ]
  }
 ]
}