{
 "metadata": {
  "name": "on_off_accp_dny_analysis"
 }, 
 "nbformat": 2, 
 "worksheets": [
  {
   "cells": [
    {
     "cell_type": "code", 
     "collapsed": false, 
     "input": [
      "import pandas as pd", 
      "import matplotlib.pyplot as plt", 
      "from pandas import DataFrame", 
      "from pandas import Series", 
      "import numpy as np", 
      "", 
      "'''to investigate the energy distribution with MC on & off '''", 
      "# rotation step 6.28", 
      "# translation step 0.1", 
      "# temperature 0.5", 
      "# mc stps 12000"
     ], 
     "language": "python", 
     "outputs": [
      {
       "output_type": "pyout", 
       "prompt_number": 126, 
       "text": [
        "'to investigate the energy distribution with MC on & off '"
       ]
      }
     ], 
     "prompt_number": 126
    }, 
    {
     "cell_type": "code", 
     "collapsed": true, 
     "input": [
      "# user-specified session", 
      "", 
      "# files to analyze ", 
      "input_files = ['on_acp.out','on_dny.out','off.out']", 
      "# sepration style in the loaded files", 
      "sep_style = ','", 
      "", 
      "# rows to skip ", 
      "rows_out = [0,1,2,3,-0]", 
      "", 
      "# unwanted description terms", 
      "desp_out = ['25%','50%','75%']", 
      "", 
      "# specified energy_term", 
      "energy_term = 'eele'", 
      "situation = 2", 
      "", 
      "# filter condition", 
      "ceiling = 0.0005", 
      "floor = -0.0005"
     ], 
     "language": "python", 
     "outputs": [], 
     "prompt_number": 127
    }, 
    {
     "cell_type": "code", 
     "collapsed": true, 
     "input": [
      "# list of the loaded files", 
      "input = []", 
      "", 
      "# DataFrames ", 
      "data = []", 
      "", 
      "# data descriptions", 
      "desps = []"
     ], 
     "language": "python", 
     "outputs": [], 
     "prompt_number": 128
    }, 
    {
     "cell_type": "code", 
     "collapsed": true, 
     "input": [
      "# load the data to DataFrame", 
      "for i in input_files:", 
      "    input.append(pd.read_csv(i,sep = sep_style,skiprows=rows_out))", 
      "for i in input:", 
      "    data.append(DataFrame(i))"
     ], 
     "language": "python", 
     "outputs": [], 
     "prompt_number": 129
    }, 
    {
     "cell_type": "code", 
     "collapsed": true, 
     "input": [
      "# describe the DataFrame", 
      "for i in data:", 
      "    desps.append(i.describe().drop(desp_out))"
     ], 
     "language": "python", 
     "outputs": [], 
     "prompt_number": 130
    }, 
    {
     "cell_type": "code", 
     "collapsed": false, 
     "input": [
      "desps[situation]"
     ], 
     "language": "python", 
     "outputs": [
      {
       "html": [
        "<div style=\"max-height:1000px;max-width:1500px;overflow:auto;\">", 
        "<table border=\"1\" class=\"dataframe\">", 
        "  <thead>", 
        "    <tr style=\"text-align: right;\">", 
        "      <th></th>", 
        "      <th>etot</th>", 
        "      <th>elhm</th>", 
        "      <th>ekde</th>", 
        "      <th>edst</th>", 
        "      <th>eele</th>", 
        "      <th>epmf</th>", 
        "      <th>ehpc</th>", 
        "      <th>ehdb</th>", 
        "      <th>epsp</th>", 
        "      <th>evdw</th>", 
        "    </tr>", 
        "  </thead>", 
        "  <tbody>", 
        "    <tr>", 
        "      <th>count</th>", 
        "      <td> 12000.000000</td>", 
        "      <td> 12000.000000</td>", 
        "      <td> 12000.000000</td>", 
        "      <td> 12000.000000</td>", 
        "      <td> 12000.000000</td>", 
        "      <td> 12000.000000</td>", 
        "      <td> 12000.000000</td>", 
        "      <td> 12000.000000</td>", 
        "      <td> 12000.000000</td>", 
        "      <td> 12000.000000</td>", 
        "    </tr>", 
        "    <tr>", 
        "      <th>mean</th>", 
        "      <td>    -0.048075</td>", 
        "      <td>     2.436278</td>", 
        "      <td>     0.000000</td>", 
        "      <td>    57.081329</td>", 
        "      <td>     0.000003</td>", 
        "      <td>    45.447636</td>", 
        "      <td>     0.194011</td>", 
        "      <td>    -0.009680</td>", 
        "      <td>     0.000433</td>", 
        "      <td>    -0.048075</td>", 
        "    </tr>", 
        "    <tr>", 
        "      <th>std</th>", 
        "      <td>     0.241141</td>", 
        "      <td>     0.446070</td>", 
        "      <td>     0.000017</td>", 
        "      <td>    20.133691</td>", 
        "      <td>     0.000184</td>", 
        "      <td>     1.464909</td>", 
        "      <td>     0.495907</td>", 
        "      <td>     0.056928</td>", 
        "      <td>     0.017340</td>", 
        "      <td>     0.241141</td>", 
        "    </tr>", 
        "    <tr>", 
        "      <th>min</th>", 
        "      <td>    -2.468430</td>", 
        "      <td>     0.339442</td>", 
        "      <td>     0.000000</td>", 
        "      <td>     3.431390</td>", 
        "      <td>    -0.004612</td>", 
        "      <td>    24.408500</td>", 
        "      <td>     0.125226</td>", 
        "      <td>    -0.676601</td>", 
        "      <td>    -0.323797</td>", 
        "      <td>    -2.468430</td>", 
        "    </tr>", 
        "    <tr>", 
        "      <th>max</th>", 
        "      <td>    -0.000004</td>", 
        "      <td>     2.993580</td>", 
        "      <td>     0.001350</td>", 
        "      <td>    86.486100</td>", 
        "      <td>     0.004329</td>", 
        "      <td>    48.338000</td>", 
        "      <td>     9.212240</td>", 
        "      <td>     0.000000</td>", 
        "      <td>     1.076650</td>", 
        "      <td>    -0.000004</td>", 
        "    </tr>", 
        "  </tbody>", 
        "</table>", 
        "</div>"
       ], 
       "output_type": "pyout", 
       "prompt_number": 131, 
       "text": [
        "               etot          elhm          ekde          edst          eele  \\", 
        "count  12000.000000  12000.000000  12000.000000  12000.000000  12000.000000   ", 
        "mean      -0.048075      2.436278      0.000000     57.081329      0.000003   ", 
        "std        0.241141      0.446070      0.000017     20.133691      0.000184   ", 
        "min       -2.468430      0.339442      0.000000      3.431390     -0.004612   ", 
        "max       -0.000004      2.993580      0.001350     86.486100      0.004329   ", 
        "", 
        "               epmf          ehpc          ehdb          epsp          evdw  ", 
        "count  12000.000000  12000.000000  12000.000000  12000.000000  12000.000000  ", 
        "mean      45.447636      0.194011     -0.009680      0.000433     -0.048075  ", 
        "std        1.464909      0.495907      0.056928      0.017340      0.241141  ", 
        "min       24.408500      0.125226     -0.676601     -0.323797     -2.468430  ", 
        "max       48.338000      9.212240      0.000000      1.076650     -0.000004  "
       ]
      }
     ], 
     "prompt_number": 131
    }, 
    {
     "cell_type": "code", 
     "collapsed": true, 
     "input": [
      "stat=DataFrame(desps[situation])"
     ], 
     "language": "python", 
     "outputs": [], 
     "prompt_number": 132
    }, 
    {
     "cell_type": "code", 
     "collapsed": false, 
     "input": [
      "stat['etot']['count']"
     ], 
     "language": "python", 
     "outputs": [
      {
       "output_type": "pyout", 
       "prompt_number": 133, 
       "text": [
        "12000.0"
       ]
      }
     ], 
     "prompt_number": 133
    }, 
    {
     "cell_type": "code", 
     "collapsed": true, 
     "input": [
      "e = []", 
      "for i in range(len(desps)):", 
      "    e.append(DataFrame(desps[i][energy_term]))"
     ], 
     "language": "python", 
     "outputs": [], 
     "prompt_number": 134
    }, 
    {
     "cell_type": "code", 
     "collapsed": false, 
     "input": [
      "e"
     ], 
     "language": "python", 
     "outputs": [
      {
       "output_type": "pyout", 
       "prompt_number": 135, 
       "text": [
        "[              eele", 
        "count  6285.000000", 
        "mean     -0.000001", 
        "std       0.000002", 
        "min      -0.000018", 
        "max       0.000027,", 
        "               eele", 
        "count  5022.000000", 
        "mean     -0.000002", 
        "std       0.000005", 
        "min      -0.000045", 
        "max       0.000204,", 
        "                eele", 
        "count  12000.000000", 
        "mean       0.000003", 
        "std        0.000184", 
        "min       -0.004612", 
        "max        0.004329]"
       ]
      }
     ], 
     "prompt_number": 135
    }, 
    {
     "cell_type": "code", 
     "collapsed": true, 
     "input": [
      "energy = Series(data[2][energy_term])", 
      "", 
      "energy = energy.drop(energy.size-1)", 
      "# drop the last line in the file, which is the accept ratio"
     ], 
     "language": "python", 
     "outputs": [], 
     "prompt_number": 136
    }, 
    {
     "cell_type": "code", 
     "collapsed": true, 
     "input": [
      "# drop the outliers", 
      "energy_filtered = np.where((energy > ceiling)|(energy < floor), NAN, energy)"
     ], 
     "language": "python", 
     "outputs": [], 
     "prompt_number": 137
    }, 
    {
     "cell_type": "code", 
     "collapsed": false, 
     "input": [
      "energy_filtered_hist = energy_filtered.hist(bins = 100, color = 'k', alpha = 0.3)", 
      "print energy_term+\"_filtered\""
     ], 
     "language": "python", 
     "outputs": [
      {
       "output_type": "stream", 
       "stream": "stdout", 
       "text": [
        "eele_filtered"
       ]
      }, 
      {
       "output_type": "display_data", 
       "png": "[encoded data removed]"
      }
     ], 
     "prompt_number": 138
    }, 
    {
     "cell_type": "code", 
     "collapsed": false, 
     "input": [
      "energy_hist = energy.hist(bins = 100, color = 'k', alpha = 0.3)", 
      "print energy_term+\"_whole\""
     ], 
     "language": "python", 
     "outputs": [
      {
       "output_type": "stream", 
       "stream": "stdout", 
       "text": [
        "eele_whole"
       ]
      }, 
      {
       "output_type": "display_data", 
       "png": "[encoded data removed]"
      }
     ], 
     "prompt_number": 139
    }, 
    {
     "cell_type": "code", 
     "collapsed": false, 
     "input": [
      "energy.plot(kind='kde', title=energy.name)"
     ], 
     "language": "python", 
     "outputs": [
      {
       "output_type": "pyout", 
       "prompt_number": 140, 
       "text": [
        "<matplotlib.axes.AxesSubplot at 0x1028f3b90>"
       ]
      }, 
      {
       "output_type": "display_data", 
       "png": "[encoded data removed]"
      }
     ], 
     "prompt_number": 140
    }, 
    {
     "cell_type": "code", 
     "collapsed": true, 
     "input": [], 
     "language": "python", 
     "outputs": [], 
     "prompt_number": 140
    }, 
    {
     "cell_type": "code", 
     "collapsed": true, 
     "input": [], 
     "language": "python", 
     "outputs": [], 
     "prompt_number": 140
    }
   ]
  }
 ]
}