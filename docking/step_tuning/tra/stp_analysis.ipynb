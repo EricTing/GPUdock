{
 "metadata": {
  "name": "stp_analysis"
 }, 
 "nbformat": 2, 
 "worksheets": [
  {
   "cells": [
    {
     "cell_type": "code", 
     "collapsed": true, 
     "input": [
      "import pandas as pd", 
      "import matplotlib.pyplot as plt", 
      "from pandas import DataFrame", 
      "from pandas import Series", 
      "import numpy as np"
     ], 
     "language": "python", 
     "outputs": [], 
     "prompt_number": 22
    }, 
    {
     "cell_type": "code", 
     "collapsed": false, 
     "input": [
      "'''to investigate the effects of translation steps in perturbation '''", 
      "'''MC turned on, energy in every step printed'''", 
      "# rotation step 6.28", 
      "# mc stps 12000", 
      "# temperature 0.5", 
      "# translation step are controled parameters"
     ], 
     "language": "python", 
     "outputs": [
      {
       "output_type": "pyout", 
       "prompt_number": 34, 
       "text": [
        "'MC turned on, energy in every step printed'"
       ]
      }
     ], 
     "prompt_number": 34
    }, 
    {
     "cell_type": "code", 
     "collapsed": true, 
     "input": [
      "# files to analyze (user-specified)", 
      "input_files = ['tra1.out','tra2.out','tra3.out','tra4.out',", 
      "               'tra5.out','tra6.out','tra7.out']", 
      "", 
      "# sepration style (user-specified)", 
      "sep_style = ','", 
      "", 
      "# rows to skip (user-specified)", 
      "rows_out = [0,1,2,3]", 
      "", 
      "# unwanted descriptions (user-specified)", 
      "desp_out = ['25%','50%','75%']"
     ], 
     "language": "python", 
     "outputs": [], 
     "prompt_number": 24
    }, 
    {
     "cell_type": "code", 
     "collapsed": true, 
     "input": [
      "# list of the loaded files", 
      "input = []", 
      "", 
      "# DataFrames ", 
      "data = []", 
      "", 
      "# data descriptions", 
      "desps = []"
     ], 
     "language": "python", 
     "outputs": [], 
     "prompt_number": 25
    }, 
    {
     "cell_type": "code", 
     "collapsed": true, 
     "input": [
      "# load the data to DataFrame", 
      "for i in input_files:", 
      "    input.append(pd.read_csv(i,sep = sep_style,skiprows=rows_out))", 
      "for i in input:", 
      "    data.append(DataFrame(i))"
     ], 
     "language": "python", 
     "outputs": [], 
     "prompt_number": 26
    }, 
    {
     "cell_type": "code", 
     "collapsed": true, 
     "input": [
      "# describe the DataFrame", 
      "for i in data:", 
      "    desps.append(i.describe().drop(desp_out))"
     ], 
     "language": "python", 
     "outputs": [], 
     "prompt_number": 27
    }, 
    {
     "cell_type": "code", 
     "collapsed": true, 
     "input": [
      "energy_term = 'elhm'"
     ], 
     "language": "python", 
     "outputs": [], 
     "prompt_number": 28
    }, 
    {
     "cell_type": "code", 
     "collapsed": true, 
     "input": [
      "e = []", 
      "for i in range(len(desps)):", 
      "    e.append(DataFrame(desps[i][energy_term]))"
     ], 
     "language": "python", 
     "outputs": [], 
     "prompt_number": 29
    }, 
    {
     "cell_type": "code", 
     "collapsed": false, 
     "input": [
      "e"
     ], 
     "language": "python", 
     "outputs": [
      {
       "output_type": "pyout", 
       "prompt_number": 30, 
       "text": [
        "[               elhm", 
        "count  12000.000000", 
        "mean       2.609657", 
        "std        0.728034", 
        "min        0.161674", 
        "max        7.032310,", 
        "                elhm", 
        "count  12000.000000", 
        "mean       2.697891", 
        "std        0.777760", 
        "min        0.205747", 
        "max        6.581250,", 
        "                elhm", 
        "count  12000.000000", 
        "mean       2.673563", 
        "std        0.752027", 
        "min        0.181303", 
        "max        6.656690,", 
        "                elhm", 
        "count  12000.000000", 
        "mean       2.680806", 
        "std        0.771805", 
        "min        0.242529", 
        "max        7.350420,", 
        "                elhm", 
        "count  12000.000000", 
        "mean       2.631690", 
        "std        0.747006", 
        "min        0.179215", 
        "max        7.690210,", 
        "                elhm", 
        "count  12000.000000", 
        "mean       2.689106", 
        "std        0.775198", 
        "min        0.185049", 
        "max        7.361220,", 
        "                elhm", 
        "count  12000.000000", 
        "mean       2.632143", 
        "std        0.723310", 
        "min        0.207354", 
        "max        6.282160]"
       ]
      }
     ], 
     "prompt_number": 30
    }, 
    {
     "cell_type": "code", 
     "collapsed": true, 
     "input": [
      "energy = Series(data[4][energy_term])", 
      "", 
      "energy = energy.drop(energy.size-1)", 
      "# drop the last line in the file, which is the accept ratio"
     ], 
     "language": "python", 
     "outputs": [], 
     "prompt_number": 31
    }, 
    {
     "cell_type": "code", 
     "collapsed": false, 
     "input": [
      "energy_hist = energy.hist(bins = 100, color = 'k', alpha = 0.3,)", 
      "print(energy.name)"
     ], 
     "language": "python", 
     "outputs": [
      {
       "output_type": "stream", 
       "stream": "stdout", 
       "text": [
        "elhm"
       ]
      }, 
      {
       "output_type": "display_data", 
       "png": "[encoded data removed]"
      }
     ], 
     "prompt_number": 32
    }, 
    {
     "cell_type": "code", 
     "collapsed": false, 
     "input": [
      "energy.plot(kind='kde', title=energy.name)"
     ], 
     "language": "python", 
     "outputs": [
      {
       "output_type": "pyout", 
       "prompt_number": 33, 
       "text": [
        "<matplotlib.axes.AxesSubplot at 0x10e4fca50>"
       ]
      }, 
      {
       "output_type": "display_data", 
       "png": "[encoded data removed]"
      }
     ], 
     "prompt_number": 33
    }, 
    {
     "cell_type": "code", 
     "collapsed": true, 
     "input": [], 
     "language": "python", 
     "outputs": [], 
     "prompt_number": 33
    }, 
    {
     "cell_type": "code", 
     "collapsed": true, 
     "input": [], 
     "language": "python", 
     "outputs": [], 
     "prompt_number": 33
    }
   ]
  }
 ]
}