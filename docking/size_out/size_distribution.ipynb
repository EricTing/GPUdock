{
 "metadata": {
  "name": "size_distribution"
 }, 
 "nbformat": 2, 
 "worksheets": [
  {
   "cells": [
    {
     "cell_type": "code", 
     "collapsed": false, 
     "input": [
      "import pandas as pd", 
      "import matplotlib.pyplot as plt", 
      "from pandas import DataFrame", 
      "from pandas import Series", 
      "import numpy as np", 
      "", 
      "'''to investigate the size of each ligand and protein '''"
     ], 
     "language": "python", 
     "outputs": [
      {
       "output_type": "pyout", 
       "prompt_number": 13, 
       "text": [
        "'to investigate the size of each ligand and protein '"
       ]
      }
     ], 
     "prompt_number": 13
    }, 
    {
     "cell_type": "code", 
     "collapsed": true, 
     "input": [
      "# user-specified session", 
      "", 
      "# files to analyze ", 
      "input_files = ['prt_pt_dis.out','lig_pt_dis.out','lig_2.out']", 
      "# sepration style in the loaded files", 
      "sep_style = ','", 
      "", 
      "# rows to skip ", 
      "rows_out = []"
     ], 
     "language": "python", 
     "outputs": [], 
     "prompt_number": 14
    }, 
    {
     "cell_type": "code", 
     "collapsed": true, 
     "input": [
      "# list of the loaded files", 
      "input = []", 
      "", 
      "# DataFrames ", 
      "data = []", 
      "", 
      "# data descriptions", 
      "desps = []"
     ], 
     "language": "python", 
     "outputs": [], 
     "prompt_number": 15
    }, 
    {
     "cell_type": "code", 
     "collapsed": true, 
     "input": [
      "# load the data to DataFrame", 
      "for i in input_files:", 
      "    input.append(pd.read_csv(i, sep = sep_style))", 
      "for i in input:", 
      "    data.append(DataFrame(i))"
     ], 
     "language": "python", 
     "outputs": [], 
     "prompt_number": 16
    }, 
    {
     "cell_type": "code", 
     "collapsed": false, 
     "input": [
      "data[0]"
     ], 
     "language": "python", 
     "outputs": [
      {
       "output_type": "pyout", 
       "prompt_number": 17, 
       "text": [
        "<class 'pandas.core.frame.DataFrame'>", 
        "Int64Index: 204 entries, 0 to 203", 
        "Data columns:", 
        "prt_id        204  non-null values", 
        "conf_total    204  non-null values", 
        "pnp           204  non-null values", 
        "pnr           204  non-null values", 
        "dtypes: int64(3), object(1)"
       ]
      }
     ], 
     "prompt_number": 17
    }, 
    {
     "cell_type": "code", 
     "collapsed": false, 
     "input": [
      "data[1]"
     ], 
     "language": "python", 
     "outputs": [
      {
       "output_type": "pyout", 
       "prompt_number": 18, 
       "text": [
        "<class 'pandas.core.frame.DataFrame'>", 
        "Int64Index: 204 entries, 0 to 203", 
        "Data columns:", 
        "lig_id        204  non-null values", 
        "conf_total    204  non-null values", 
        "lnp           204  non-null values", 
        "dtypes: int64(2), object(1)"
       ]
      }
     ], 
     "prompt_number": 18
    }, 
    {
     "cell_type": "code", 
     "collapsed": false, 
     "input": [
      "data[2]"
     ], 
     "language": "python", 
     "outputs": [
      {
       "output_type": "pyout", 
       "prompt_number": 19, 
       "text": [
        "<class 'pandas.core.frame.DataFrame'>", 
        "Int64Index: 204 entries, 0 to 203", 
        "Data columns:", 
        "id           204  non-null values", 
        "MAXEN2       204  non-null values", 
        "pt_num       204  non-null values", 
        "file_conf    204  non-null values", 
        "dtypes: int64(3), object(1)"
       ]
      }
     ], 
     "prompt_number": 19
    }, 
    {
     "cell_type": "code", 
     "collapsed": false, 
     "input": [
      "lig_file_conf = Series(data[2]['file_conf'])"
     ], 
     "language": "python", 
     "outputs": [], 
     "prompt_number": 20
    }, 
    {
     "cell_type": "code", 
     "collapsed": false, 
     "input": [
      "lig_file_conf.describe()"
     ], 
     "language": "python", 
     "outputs": [
      {
       "output_type": "pyout", 
       "prompt_number": 21, 
       "text": [
        "count    204.000000", 
        "mean      34.308824", 
        "std       21.383151", 
        "min        1.000000", 
        "25%        3.000000", 
        "50%       50.000000", 
        "75%       50.000000", 
        "max       50.000000"
       ]
      }
     ], 
     "prompt_number": 21
    }, 
    {
     "cell_type": "code", 
     "collapsed": false, 
     "input": [
      "lig_file_conf.hist()"
     ], 
     "language": "python", 
     "outputs": [
      {
       "output_type": "pyout", 
       "prompt_number": 22, 
       "text": [
        "<matplotlib.axes.AxesSubplot at 0x10b53c750>"
       ]
      }, 
      {
       "output_type": "display_data", 
       "png": "[encoded data removed]"
      }
     ], 
     "prompt_number": 22
    }, 
    {
     "cell_type": "code", 
     "collapsed": true, 
     "input": [
      "prt_pnp = Series(data[0]['pnp'])"
     ], 
     "language": "python", 
     "outputs": [], 
     "prompt_number": 21
    }, 
    {
     "cell_type": "code", 
     "collapsed": false, 
     "input": [
      "prt_pnp.describe()"
     ], 
     "language": "python", 
     "outputs": [
      {
       "output_type": "pyout", 
       "prompt_number": 22, 
       "text": [
        "count     204.000000", 
        "mean      838.117647", 
        "std       345.103919", 
        "min       293.000000", 
        "25%       671.250000", 
        "50%       793.000000", 
        "75%      1005.000000", 
        "max      1828.000000"
       ]
      }
     ], 
     "prompt_number": 22
    }, 
    {
     "cell_type": "code", 
     "collapsed": false, 
     "input": [
      "prt_pnp.hist()"
     ], 
     "language": "python", 
     "outputs": [
      {
       "output_type": "pyout", 
       "prompt_number": 23, 
       "text": [
        "<matplotlib.axes.AxesSubplot at 0x10b5bbf90>"
       ]
      }, 
      {
       "output_type": "display_data", 
       "png": "[encoded data removed]"
      }
     ], 
     "prompt_number": 23
    }, 
    {
     "cell_type": "code", 
     "collapsed": true, 
     "input": [
      "prt_pnr = Series(data[0]['pnr'])"
     ], 
     "language": "python", 
     "outputs": [], 
     "prompt_number": 24
    }, 
    {
     "cell_type": "code", 
     "collapsed": false, 
     "input": [
      "prt_pnr.describe()"
     ], 
     "language": "python", 
     "outputs": [
      {
       "output_type": "pyout", 
       "prompt_number": 26, 
       "text": [
        "count    204.000000", 
        "mean     259.475490", 
        "std      105.403444", 
        "min       88.000000", 
        "25%      208.250000", 
        "50%      246.000000", 
        "75%      317.250000", 
        "max      571.000000"
       ]
      }
     ], 
     "prompt_number": 26
    }, 
    {
     "cell_type": "code", 
     "collapsed": false, 
     "input": [
      "prt_pnr.hist()"
     ], 
     "language": "python", 
     "outputs": [
      {
       "output_type": "pyout", 
       "prompt_number": 27, 
       "text": [
        "<matplotlib.axes.AxesSubplot at 0x10c840b90>"
       ]
      }, 
      {
       "output_type": "display_data", 
       "png": "[encoded data removed]"
      }
     ], 
     "prompt_number": 27
    }, 
    {
     "cell_type": "code", 
     "collapsed": true, 
     "input": [
      "lig = Series(data[1]['lnp'])"
     ], 
     "language": "python", 
     "outputs": [], 
     "prompt_number": 29
    }, 
    {
     "cell_type": "code", 
     "collapsed": false, 
     "input": [
      "lig.describe()"
     ], 
     "language": "python", 
     "outputs": [
      {
       "output_type": "pyout", 
       "prompt_number": 30, 
       "text": [
        "count    204.000000", 
        "mean      23.622549", 
        "std       12.154169", 
        "min        6.000000", 
        "25%       13.000000", 
        "50%       21.000000", 
        "75%       31.250000", 
        "max       62.000000"
       ]
      }
     ], 
     "prompt_number": 30
    }, 
    {
     "cell_type": "code", 
     "collapsed": false, 
     "input": [
      "lig.hist()"
     ], 
     "language": "python", 
     "outputs": [
      {
       "output_type": "pyout", 
       "prompt_number": 31, 
       "text": [
        "<matplotlib.axes.AxesSubplot at 0x10b572110>"
       ]
      }, 
      {
       "output_type": "display_data", 
       "png": "[encoded data removed]"
      }
     ], 
     "prompt_number": 31
    }
   ]
  }
 ]
}