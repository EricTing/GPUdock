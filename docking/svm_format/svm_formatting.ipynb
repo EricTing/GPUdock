{
 "metadata": {
  "name": "svm_formatting"
 }, 
 "nbformat": 2, 
 "worksheets": [
  {
   "cells": [
    {
     "cell_type": "code", 
     "collapsed": true, 
     "input": [
      "from pandas import DataFrame", 
      "from pandas import Series", 
      "import numpy as np", 
      "import pandas as pd"
     ], 
     "language": "python", 
     "outputs": [], 
     "prompt_number": 24
    }, 
    {
     "cell_type": "code", 
     "collapsed": true, 
     "input": [
      "all_data1 = pd.read_csv('1a07C1-H-DecoyRepEner.txt' )"
     ], 
     "language": "python", 
     "outputs": [], 
     "prompt_number": 25
    }, 
    {
     "cell_type": "code", 
     "collapsed": true, 
     "input": [
      "all_data2 = pd.read_csv('1a07C1-A-DecoyRepEner.txt')"
     ], 
     "language": "python", 
     "outputs": [], 
     "prompt_number": 26
    }, 
    {
     "cell_type": "code", 
     "collapsed": true, 
     "input": [
      "all_data = pd.concat([all_data1, all_data2])"
     ], 
     "language": "python", 
     "outputs": [], 
     "prompt_number": 27
    }, 
    {
     "cell_type": "code", 
     "collapsed": true, 
     "input": [
      "all_data = all_data.sort(columns='mcc',ascending=False)"
     ], 
     "language": "python", 
     "outputs": [], 
     "prompt_number": 28
    }, 
    {
     "cell_type": "code", 
     "collapsed": true, 
     "input": [
      "all_data.index = range(len(all_data.index))"
     ], 
     "language": "python", 
     "outputs": [], 
     "prompt_number": 29
    }, 
    {
     "cell_type": "code", 
     "collapsed": true, 
     "input": [
      "all_data.to_csv('premerged', sep=' ',index=False, header=False)"
     ], 
     "language": "python", 
     "outputs": [], 
     "prompt_number": 30
    }, 
    {
     "cell_type": "code", 
     "collapsed": true, 
     "input": [
      "true_lst = np.where(all_data['mcc'] > 0.5, -1, 1)"
     ], 
     "language": "python", 
     "outputs": [], 
     "prompt_number": 31
    }, 
    {
     "cell_type": "code", 
     "collapsed": false, 
     "input": [
      "all_data"
     ], 
     "language": "python", 
     "outputs": [
      {
       "output_type": "pyout", 
       "prompt_number": 32, 
       "text": [
        "<class 'pandas.core.frame.DataFrame'>", 
        "Int64Index: 200 entries, 0 to 199", 
        "Data columns:", 
        "Unnamed: 0    200  non-null values", 
        "_evdw         200  non-null values", 
        "_eele         200  non-null values", 
        "_epmf         200  non-null values", 
        "_ehpc         200  non-null values", 
        "_ehdb         200  non-null values", 
        "_edst         200  non-null values", 
        "_epsp         200  non-null values", 
        "_ekde         200  non-null values", 
        "_elhm         200  non-null values", 
        "mcc           200  non-null values", 
        "dtypes: float64(10), int64(1)"
       ]
      }
     ], 
     "prompt_number": 32
    }, 
    {
     "cell_type": "code", 
     "collapsed": true, 
     "input": [
      "true_lst = DataFrame(true_lst)"
     ], 
     "language": "python", 
     "outputs": [], 
     "prompt_number": 33
    }, 
    {
     "cell_type": "code", 
     "collapsed": true, 
     "input": [
      "true_lst.columns = ['bool']"
     ], 
     "language": "python", 
     "outputs": [], 
     "prompt_number": 34
    }, 
    {
     "cell_type": "code", 
     "collapsed": false, 
     "input": [
      "true_lst"
     ], 
     "language": "python", 
     "outputs": [
      {
       "output_type": "pyout", 
       "prompt_number": 35, 
       "text": [
        "<class 'pandas.core.frame.DataFrame'>", 
        "Int64Index: 200 entries, 0 to 199", 
        "Data columns:", 
        "bool    200  non-null values", 
        "dtypes: int64(1)"
       ]
      }
     ], 
     "prompt_number": 35
    }, 
    {
     "cell_type": "code", 
     "collapsed": true, 
     "input": [
      "all_data = all_data.drop(['mcc','Unnamed: 0'], axis=1)"
     ], 
     "language": "python", 
     "outputs": [], 
     "prompt_number": 36
    }, 
    {
     "cell_type": "code", 
     "collapsed": true, 
     "input": [
      "old_columns = all_data.columns"
     ], 
     "language": "python", 
     "outputs": [], 
     "prompt_number": 37
    }, 
    {
     "cell_type": "code", 
     "collapsed": false, 
     "input": [
      "old_columns"
     ], 
     "language": "python", 
     "outputs": [
      {
       "output_type": "pyout", 
       "prompt_number": 38, 
       "text": [
        "Index([_evdw, _eele, _epmf, _ehpc, _ehdb, _edst, _epsp, _ekde, _elhm], dtype=object)"
       ]
      }
     ], 
     "prompt_number": 38
    }, 
    {
     "cell_type": "code", 
     "collapsed": false, 
     "input": [
      "for num, name in enumerate(old_columns):", 
      "    print num+1", 
      "    print name"
     ], 
     "language": "python", 
     "outputs": [
      {
       "output_type": "stream", 
       "stream": "stdout", 
       "text": [
        "1", 
        "_evdw", 
        "2", 
        "_eele", 
        "3", 
        "_epmf", 
        "4", 
        "_ehpc", 
        "5", 
        "_ehdb", 
        "6", 
        "_edst", 
        "7", 
        "_epsp", 
        "8", 
        "_ekde", 
        "9", 
        "_elhm"
       ]
      }
     ], 
     "prompt_number": 39
    }, 
    {
     "cell_type": "code", 
     "collapsed": true, 
     "input": [
      "for num, name in enumerate(old_columns):", 
      "    tmp_df = list(all_data[name])", 
      "    tmp_df = DataFrame([str(num+1)+':'+(\"%.11f\" % i) for i in tmp_df])", 
      "    tmp_df.columns=[str(num+1)]", 
      "    all_data = pd.concat([all_data, tmp_df], axis=1)"
     ], 
     "language": "python", 
     "outputs": [], 
     "prompt_number": 40
    }, 
    {
     "cell_type": "code", 
     "collapsed": false, 
     "input": [
      "all_data"
     ], 
     "language": "python", 
     "outputs": [
      {
       "output_type": "pyout", 
       "prompt_number": 41, 
       "text": [
        "<class 'pandas.core.frame.DataFrame'>", 
        "Int64Index: 200 entries, 0 to 199", 
        "Data columns:", 
        "_evdw    200  non-null values", 
        "_eele    200  non-null values", 
        "_epmf    200  non-null values", 
        "_ehpc    200  non-null values", 
        "_ehdb    200  non-null values", 
        "_edst    200  non-null values", 
        "_epsp    200  non-null values", 
        "_ekde    200  non-null values", 
        "_elhm    200  non-null values", 
        "1        200  non-null values", 
        "2        200  non-null values", 
        "3        200  non-null values", 
        "4        200  non-null values", 
        "5        200  non-null values", 
        "6        200  non-null values", 
        "7        200  non-null values", 
        "8        200  non-null values", 
        "9        200  non-null values", 
        "dtypes: float64(9), object(9)"
       ]
      }
     ], 
     "prompt_number": 41
    }, 
    {
     "cell_type": "code", 
     "collapsed": true, 
     "input": [
      "all_data=all_data.drop(old_columns,axis=1)"
     ], 
     "language": "python", 
     "outputs": [], 
     "prompt_number": 42
    }, 
    {
     "cell_type": "code", 
     "collapsed": true, 
     "input": [
      "all_data = pd.concat([all_data, true_lst], axis=1)"
     ], 
     "language": "python", 
     "outputs": [], 
     "prompt_number": 43
    }, 
    {
     "cell_type": "code", 
     "collapsed": true, 
     "input": [
      "# rearrange the colums"
     ], 
     "language": "python", 
     "outputs": [], 
     "prompt_number": 44
    }, 
    {
     "cell_type": "code", 
     "collapsed": true, 
     "input": [
      "all_data=all_data.reindex(columns=pd.Index(['bool']).append(all_data.columns - ['bool']))"
     ], 
     "language": "python", 
     "outputs": [], 
     "prompt_number": 45
    }, 
    {
     "cell_type": "code", 
     "collapsed": true, 
     "input": [
      "all_data.to_csv('merged', sep=' ',index=False, header=False)"
     ], 
     "language": "python", 
     "outputs": [], 
     "prompt_number": 46
    }, 
    {
     "cell_type": "code", 
     "collapsed": true, 
     "input": [], 
     "language": "python", 
     "outputs": [], 
     "prompt_number": 46
    }
   ]
  }
 ]
}